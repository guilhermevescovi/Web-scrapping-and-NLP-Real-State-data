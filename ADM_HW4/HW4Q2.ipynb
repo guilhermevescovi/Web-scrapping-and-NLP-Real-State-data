{
 "cells": [
  {
   "cell_type": "code",
   "execution_count": 1,
   "metadata": {},
   "outputs": [],
   "source": [
    "#As the passwords2 file is too huge to process we created passwords3 file and picked first 1 million records from password2 and created one duplicate string with changing the order and other duplicate with same order\n",
    "# let us define our hash functions."
   ]
  },
  {
   "cell_type": "code",
   "execution_count": 2,
   "metadata": {},
   "outputs": [],
   "source": [
    "HN=32452843\n",
    "from collections import Counter\n",
    "# NH is the prime number be the Max length of our Hash table When ever we build hash function we mode it with NH so our hash function always return value below NH"
   ]
  },
  {
   "cell_type": "code",
   "execution_count": 3,
   "metadata": {},
   "outputs": [],
   "source": [
    "def calculationhashwithoutsequence(string):\n",
    "    hash=1\n",
    "    frq=dict(Counter(string).most_common())\n",
    "    #we create pairs of every word with its frequency\n",
    "    for i in range(32,128): # ASCII range of visible characters\n",
    "        if(chr(i) in frq):\n",
    "            hash+=frq[chr(i)] #if word exists in the string make its frency on index of its ASCII\n",
    "        hash=((hash*20)+1)%HN #there would be max 20 frequency of any character so we take 20 as section size \n",
    "    return hash"
   ]
  },
  {
   "cell_type": "code",
   "execution_count": null,
   "metadata": {},
   "outputs": [],
   "source": [
    "#Now let us define hash function with sequence"
   ]
  },
  {
   "cell_type": "code",
   "execution_count": 4,
   "metadata": {},
   "outputs": [],
   "source": [
    "def calculationhashwithsequence(string):\n",
    "    hash=1\n",
    "    index=0\n",
    "    for i in list(string):\n",
    "        hash+=ord(i)*(index+1) # for every word we multiply its index with its ASCII\n",
    "        hash=((hash*128*20)+1)%HN #the max of product of index and ASCII is 128*20 so we take section size\n",
    "        index+=1\n",
    "    return hash"
   ]
  },
  {
   "cell_type": "code",
   "execution_count": 17,
   "metadata": {},
   "outputs": [
    {
     "name": "stdout",
     "output_type": "stream",
     "text": [
      "Number of duplicates are:  2  and false positives are:  47\n"
     ]
    }
   ],
   "source": [
    "hashmap=[None]*HN\n",
    "duplicates=0\n",
    "falsepositives=0\n",
    "#we defined Hashmap of None of length HN and declared out counters of duplicates and false positives\n",
    "#Now for finding duplicated without sequence we would have following code\n",
    "with open('passwords3.txt', 'r') as text:\n",
    "    for line in text:\n",
    "        line=line.strip() #read the lines and remove endline from the end of everyline\n",
    "        index=calculationhashwithoutsequence(line) #calculating hash of every string\n",
    "        line=\"\".join(sorted(list(line))) #sorting the line in order of their ASCII character (for matching purpose)\n",
    "        if(hashmap[index] is None): # if there is none at the index returned by hash function create a dictionary at that index \n",
    "            hashmap[index]=dict()\n",
    "        if(line in hashmap[index]): #check is there is character present in dictionary keys available at index returned by hash function \n",
    "            hashmap[index][line]+=1 #if there is already a key of that character on hash function then duplication occurs and we make its count++\n",
    "            duplicates+=1 \n",
    "        else:\n",
    "            hashmap[index][line]=1 #if there is no key avaiable at hash index then we create the specific key in the dictionary and set value as one mentioning the this string has occured one time\n",
    "            if(len(hashmap[index])>1): #if there is already another value in dictionary in hash index then there is a false positive case\n",
    "                falsepositives+=1\n",
    "\n",
    "print(\"Number of duplicates are: \",duplicates,\" and false positives are: \",falsepositives)"
   ]
  },
  {
   "cell_type": "code",
   "execution_count": null,
   "metadata": {},
   "outputs": [],
   "source": [
    "#From result we can see that we had two match without sequence and 47 false positives"
   ]
  },
  {
   "cell_type": "code",
   "execution_count": null,
   "metadata": {},
   "outputs": [],
   "source": [
    "# Now for matching string with the sequence."
   ]
  },
  {
   "cell_type": "code",
   "execution_count": 18,
   "metadata": {},
   "outputs": [
    {
     "name": "stdout",
     "output_type": "stream",
     "text": [
      "Number of duplicates are:  1  and false positives are:  34\n"
     ]
    }
   ],
   "source": [
    "hashmap=[None]*HN\n",
    "duplicates=0\n",
    "falsepositives=0\n",
    "#we defined Hashmap of None of length HN and declared out counters of duplicates and false positives\n",
    "#Now for finding duplicated without sequence we would have following code\n",
    "with open('passwords3.txt', 'r') as text:\n",
    "    for line in text:\n",
    "        line=line.strip() #read the lines and remove endline from the end of everyline\n",
    "        index=calculationhashwithsequence(line) #calculating hash of every string\n",
    "        if(hashmap[index] is None): # if there is none at the index returned by hash function create a dictionary at that index \n",
    "            hashmap[index]=dict()\n",
    "        if(line in hashmap[index]): #check is there is character present in dictionary keys available at index returned by hash function \n",
    "            hashmap[index][line]+=1 #if there is already a key of that character on hash function then duplication occurs and we make its count++\n",
    "            duplicates+=1 \n",
    "        else:\n",
    "            hashmap[index][line]=1 #if there is no key avaiable at hash index then we create the specific key in the dictionary and set value as one mentioning the this string has occured one time\n",
    "            if(len(hashmap[index])>1): #if there is already another value in dictionary in hash index then there is a false positive case\n",
    "                falsepositives+=1\n",
    "\n",
    "print(\"Number of duplicates are: \",duplicates,\" and false positives are: \",falsepositives)"
   ]
  },
  {
   "cell_type": "code",
   "execution_count": null,
   "metadata": {},
   "outputs": [],
   "source": [
    "#Now we can see from the result that we have correctly detected one 1 match from the given string"
   ]
  }
 ],
 "metadata": {
  "kernelspec": {
   "display_name": "Python 3",
   "language": "python",
   "name": "python3"
  },
  "language_info": {
   "codemirror_mode": {
    "name": "ipython",
    "version": 3
   },
   "file_extension": ".py",
   "mimetype": "text/x-python",
   "name": "python",
   "nbconvert_exporter": "python",
   "pygments_lexer": "ipython3",
   "version": "3.6.5"
  }
 },
 "nbformat": 4,
 "nbformat_minor": 2
}
